{
  "cells": [
    {
      "cell_type": "markdown",
      "metadata": {
        "id": "JIurU80WOon0"
      },
      "source": [
        "<a href=\"https://colab.research.google.com/github/arewadataScience/ArewaDS-Deep-Learning/blob/main/Part_1_Deep_Learning_with_Pytorch/week2/week_2_exercises.ipynb\" target=\"_parent\"><img src=\"https://colab.research.google.com/assets/colab-badge.svg\" alt=\"Open In Colab\"/></a>"
      ]
    },
    {
      "cell_type": "markdown",
      "metadata": {
        "id": "crKnwGe4Oon8"
      },
      "source": [
        "## Arewa DataScience Academy\n",
        "### Deep Learning Cohort 1.0\n",
        "\n",
        "### WEEK 2 Exercises"
      ]
    },
    {
      "cell_type": "markdown",
      "metadata": {
        "id": "N4fkilx2Oon-"
      },
      "source": [
        "### Exercises:\n",
        "Please, see week 2 exercises from [**Learn PyTorch for Deep Learning**: 01. Pytorch Workflows](https://www.learnpytorch.io/01_pytorch_workflow/#exercises)"
      ]
    },
    {
      "cell_type": "markdown",
      "metadata": {
        "id": "6q0r7OhwOon_"
      },
      "source": [
        "### Additional Exercise\n",
        "[Click to view PDF 📄](ArewaDS_Deep_Learning_Advanced_Assignment_Week2.pdf)"
      ]
    },
    {
      "cell_type": "code",
      "execution_count": null,
      "metadata": {
        "vscode": {
          "languageId": "plaintext"
        },
        "id": "qe4Tv_apOooA"
      },
      "outputs": [],
      "source": [
        "# download dataset in colab env\n",
        "!wget https://archive.ics.uci.edu/static/public/607/synchronous+machine+data+set.zip -O data.zip"
      ]
    },
    {
      "cell_type": "markdown",
      "metadata": {
        "id": "aLssGazBOooC"
      },
      "source": [
        "SUBMIT ASSIGNMENT HERE: [CLICK ME ▶️](https://forms.gle/876vi4aNoFf4A2mU7)"
      ]
    }
  ],
  "metadata": {
    "language_info": {
      "name": "python"
    },
    "colab": {
      "provenance": [],
      "gpuType": "T4"
    },
    "accelerator": "GPU"
  },
  "nbformat": 4,
  "nbformat_minor": 0
}